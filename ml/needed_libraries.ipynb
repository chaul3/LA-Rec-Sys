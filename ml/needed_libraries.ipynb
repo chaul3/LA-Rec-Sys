{
 "cells": [
  {
   "cell_type": "code",
   "execution_count": null,
   "id": "d2314b5e",
   "metadata": {},
   "outputs": [],
   "source": [
    "!pip install pandas"
   ]
  },
  {
   "cell_type": "code",
   "execution_count": null,
   "id": "275304af",
   "metadata": {},
   "outputs": [],
   "source": [
    "!pip install numpy"
   ]
  },
  {
   "cell_type": "code",
   "execution_count": null,
   "id": "ba7ebe4c",
   "metadata": {},
   "outputs": [],
   "source": [
    "!pip install sklearn"
   ]
  },
  {
   "cell_type": "code",
   "execution_count": null,
   "id": "87757561",
   "metadata": {},
   "outputs": [],
   "source": [
    "!pip install recommenders"
   ]
  },
  {
   "cell_type": "code",
   "execution_count": null,
   "id": "0967ec22",
   "metadata": {},
   "outputs": [],
   "source": [
    "!pip install scrapbook"
   ]
  },
  {
   "cell_type": "code",
   "execution_count": null,
   "id": "96c6dac1",
   "metadata": {},
   "outputs": [],
   "source": [
    "!pip install pickle"
   ]
  },
  {
   "cell_type": "code",
   "execution_count": null,
   "id": "ae04de26",
   "metadata": {},
   "outputs": [],
   "source": [
    "!pip install pymongo"
   ]
  }
 ],
 "metadata": {
  "kernelspec": {
   "display_name": "Python 3",
   "language": "python",
   "name": "python3"
  },
  "language_info": {
   "codemirror_mode": {
    "name": "ipython",
    "version": 3
   },
   "file_extension": ".py",
   "mimetype": "text/x-python",
   "name": "python",
   "nbconvert_exporter": "python",
   "pygments_lexer": "ipython3",
   "version": "3.8.8"
  }
 },
 "nbformat": 4,
 "nbformat_minor": 5
}
